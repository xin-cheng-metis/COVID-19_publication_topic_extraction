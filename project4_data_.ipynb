{
 "cells": [
  {
   "cell_type": "code",
   "execution_count": 4,
   "metadata": {},
   "outputs": [],
   "source": [
    "import pandas as pd\n",
    "import os , json\n",
    "from pymongo import MongoClient\n",
    "import matplotlib.pyplot as plt\n",
    "import re, pprint, pickle"
   ]
  },
  {
   "cell_type": "code",
   "execution_count": 8,
   "metadata": {},
   "outputs": [],
   "source": [
    "from os import listdir\n",
    "from os.path import isfile, join"
   ]
  },
  {
   "cell_type": "code",
   "execution_count": 5,
   "metadata": {},
   "outputs": [],
   "source": [
    "import gensim, spacy, logging, warnings\n",
    "import gensim.corpora as corpora\n",
    "from gensim.utils import lemmatize, simple_preprocess\n",
    "from gensim.models import CoherenceModel"
   ]
  },
  {
   "cell_type": "code",
   "execution_count": 6,
   "metadata": {},
   "outputs": [],
   "source": [
    "import spacy\n",
    "import scispacy"
   ]
  },
  {
   "cell_type": "markdown",
   "metadata": {},
   "source": [
    "##### Mongo DB connection"
   ]
  },
  {
   "cell_type": "code",
   "execution_count": 9,
   "metadata": {},
   "outputs": [],
   "source": [
    "#log into COVID19 database on AWS\n",
    "config = {\n",
    "  'host': '184.169.174.230:27017',\n",
    "  'username': 'xin',\n",
    "  'password': 'passw0rd',\n",
    "  'authSource': 'COVID19'\n",
    "}\n",
    "\n",
    "client = MongoClient(**config)\n",
    "\n",
    "db = client.COVID19"
   ]
  },
  {
   "cell_type": "code",
   "execution_count": 13,
   "metadata": {},
   "outputs": [],
   "source": [
    "path = 'comm_use_subset/comm_use_subset/pdf_json'\n",
    "\n",
    "#get all file names under this directory\n",
    "files = [f for f in os.listdir(path) if isfile(join(path, f))]\n",
    "\n",
    "#get full path directory\n",
    "file_path = list(path +'/'+ files[i] for i in range(len(files)))"
   ]
  },
  {
   "cell_type": "code",
   "execution_count": 14,
   "metadata": {},
   "outputs": [
    {
     "data": {
      "text/plain": [
       "9918"
      ]
     },
     "execution_count": 14,
     "metadata": {},
     "output_type": "execute_result"
    }
   ],
   "source": [
    "#total papers in dataset\n",
    "len(files)"
   ]
  },
  {
   "cell_type": "code",
   "execution_count": 282,
   "metadata": {},
   "outputs": [
    {
     "data": {
      "text/plain": [
       "Collection(Database(MongoClient(host=['184.169.174.230:27017'], document_class=dict, tz_aware=False, connect=True, authsource='COVID19'), 'COVID19'), 'subset')"
      ]
     },
     "execution_count": 282,
     "metadata": {},
     "output_type": "execute_result"
    }
   ],
   "source": [
    "#Create collection\n",
    "#db.create_collection('subset')"
   ]
  },
  {
   "cell_type": "code",
   "execution_count": 15,
   "metadata": {},
   "outputs": [],
   "source": [
    "#Read json file into list\n",
    "whole_list = []\n",
    "for i in range(len(file_path)):\n",
    "    with open  (file_path[i]) as f:\n",
    "        data = json.load(f)\n",
    "        whole_list.append(data)"
   ]
  },
  {
   "cell_type": "code",
   "execution_count": 30,
   "metadata": {},
   "outputs": [
    {
     "data": {
      "text/plain": [
       "<pymongo.results.InsertManyResult at 0x10b0a49eb0>"
      ]
     },
     "execution_count": 30,
     "metadata": {},
     "output_type": "execute_result"
    }
   ],
   "source": [
    "# insert data into dataframe, commented out to prevent multiple insert\n",
    "# db.subset.insert_many(whole_list)"
   ]
  },
  {
   "cell_type": "code",
   "execution_count": 17,
   "metadata": {},
   "outputs": [
    {
     "data": {
      "text/plain": [
       "9918"
      ]
     },
     "execution_count": 17,
     "metadata": {},
     "output_type": "execute_result"
    }
   ],
   "source": [
    "#Load all data into mongodb\n",
    "db.subset.count_documents({})"
   ]
  },
  {
   "cell_type": "code",
   "execution_count": 145,
   "metadata": {},
   "outputs": [],
   "source": [
    "#Each paper was sectioned into several text subfield, this step is to concat them together.\n",
    "agg = db.subset.aggregate([\n",
    "   { '$project': { 'whole_text': { '$concatArrays': '$body_text.text' } } }\n",
    "])\n",
    "# returned_abs = list(db.subset.find({},{'abstract.text':1, '_id':0}))\n",
    "agg_abs = db.subset.aggregate([\n",
    "   { '$project': { 'abstract': { '$concatArrays': '$abstract.text' } } }\n",
    "])"
   ]
  },
  {
   "cell_type": "code",
   "execution_count": 146,
   "metadata": {},
   "outputs": [],
   "source": [
    "df = pd.DataFrame(list(agg))"
   ]
  },
  {
   "cell_type": "code",
   "execution_count": 153,
   "metadata": {},
   "outputs": [],
   "source": [
    "returned = list(db.subset.find({},{'metadata.title':1, '_id':0}))#getting title results from database\n",
    "df['title'] = list(item['metadata']['title'] for item in returned)#remove the parenphasis"
   ]
  },
  {
   "cell_type": "code",
   "execution_count": 169,
   "metadata": {},
   "outputs": [],
   "source": [
    "#joining paragraphs in list\n",
    "def concat_list(text):\n",
    "    return ' '.join(text)\n",
    "df.whole_text = df.whole_text.apply(concat_list)"
   ]
  },
  {
   "cell_type": "code",
   "execution_count": 217,
   "metadata": {},
   "outputs": [],
   "source": [
    "df.to_pickle('df_text.pkl')"
   ]
  },
  {
   "cell_type": "code",
   "execution_count": 170,
   "metadata": {},
   "outputs": [
    {
     "data": {
      "text/html": [
       "<div>\n",
       "<style scoped>\n",
       "    .dataframe tbody tr th:only-of-type {\n",
       "        vertical-align: middle;\n",
       "    }\n",
       "\n",
       "    .dataframe tbody tr th {\n",
       "        vertical-align: top;\n",
       "    }\n",
       "\n",
       "    .dataframe thead th {\n",
       "        text-align: right;\n",
       "    }\n",
       "</style>\n",
       "<table border=\"1\" class=\"dataframe\">\n",
       "  <thead>\n",
       "    <tr style=\"text-align: right;\">\n",
       "      <th></th>\n",
       "      <th>_id</th>\n",
       "      <th>whole_text</th>\n",
       "      <th>title</th>\n",
       "    </tr>\n",
       "  </thead>\n",
       "  <tbody>\n",
       "    <tr>\n",
       "      <th>0</th>\n",
       "      <td>5ebeb947e7549a35232c1ba9</td>\n",
       "      <td>Porcine epidemic diarrhea virus (PEDV), which ...</td>\n",
       "      <td>Neutralizing antibodies against porcine epidem...</td>\n",
       "    </tr>\n",
       "    <tr>\n",
       "      <th>1</th>\n",
       "      <td>5ebeb947e7549a35232c1baa</td>\n",
       "      <td>Generation of rNDVs expressing S1, S2 or S pro...</td>\n",
       "      <td>A Recombinant Newcastle Disease Virus (NDV) Ex...</td>\n",
       "    </tr>\n",
       "    <tr>\n",
       "      <th>2</th>\n",
       "      <td>5ebeb947e7549a35232c1bab</td>\n",
       "      <td>The incidence of complete Achilles tendon rupt...</td>\n",
       "      <td>GP-confirmed complete Achilles tendon rupture ...</td>\n",
       "    </tr>\n",
       "    <tr>\n",
       "      <th>3</th>\n",
       "      <td>5ebeb947e7549a35232c1bac</td>\n",
       "      <td>Arenaviruses are enveloped RNA viruses with bi...</td>\n",
       "      <td>Potent Inhibition of Junín Virus Infection by ...</td>\n",
       "    </tr>\n",
       "    <tr>\n",
       "      <th>4</th>\n",
       "      <td>5ebeb947e7549a35232c1bad</td>\n",
       "      <td>In this study, the anti-dengue activity of nic...</td>\n",
       "      <td>2 convergent Research center for emerging Viru...</td>\n",
       "    </tr>\n",
       "    <tr>\n",
       "      <th>...</th>\n",
       "      <td>...</td>\n",
       "      <td>...</td>\n",
       "      <td>...</td>\n",
       "    </tr>\n",
       "    <tr>\n",
       "      <th>9913</th>\n",
       "      <td>5ebeb948e7549a35232c4262</td>\n",
       "      <td>Early nutritional environment affects long ter...</td>\n",
       "      <td>Lipidome profiles of postnatal day 2 vaginal s...</td>\n",
       "    </tr>\n",
       "    <tr>\n",
       "      <th>9914</th>\n",
       "      <td>5ebeb948e7549a35232c4263</td>\n",
       "      <td>Syphilis is a sexually transmitted disease (ST...</td>\n",
       "      <td>Secondary Syphilis in Cali, Colombia: New Conc...</td>\n",
       "    </tr>\n",
       "    <tr>\n",
       "      <th>9915</th>\n",
       "      <td>5ebeb948e7549a35232c4264</td>\n",
       "      <td>Scientific RepoRts | 6:21878 | DOI: 10 .1038/s...</td>\n",
       "      <td>Replication and shedding of MERS- CoV in Jamai...</td>\n",
       "    </tr>\n",
       "    <tr>\n",
       "      <th>9916</th>\n",
       "      <td>5ebeb948e7549a35232c4265</td>\n",
       "      <td>Arenaviruses are enveloped RNA viruses contain...</td>\n",
       "      <td>Role of the ERK1/2 Signaling Pathway in the Re...</td>\n",
       "    </tr>\n",
       "    <tr>\n",
       "      <th>9917</th>\n",
       "      <td>5ebeb948e7549a35232c4266</td>\n",
       "      <td>Emerging infectious diseases (EIDs) can cause ...</td>\n",
       "      <td>Foodborne Transmission of Deformed Wing Virus ...</td>\n",
       "    </tr>\n",
       "  </tbody>\n",
       "</table>\n",
       "<p>9918 rows × 3 columns</p>\n",
       "</div>"
      ],
      "text/plain": [
       "                           _id  \\\n",
       "0     5ebeb947e7549a35232c1ba9   \n",
       "1     5ebeb947e7549a35232c1baa   \n",
       "2     5ebeb947e7549a35232c1bab   \n",
       "3     5ebeb947e7549a35232c1bac   \n",
       "4     5ebeb947e7549a35232c1bad   \n",
       "...                        ...   \n",
       "9913  5ebeb948e7549a35232c4262   \n",
       "9914  5ebeb948e7549a35232c4263   \n",
       "9915  5ebeb948e7549a35232c4264   \n",
       "9916  5ebeb948e7549a35232c4265   \n",
       "9917  5ebeb948e7549a35232c4266   \n",
       "\n",
       "                                             whole_text  \\\n",
       "0     Porcine epidemic diarrhea virus (PEDV), which ...   \n",
       "1     Generation of rNDVs expressing S1, S2 or S pro...   \n",
       "2     The incidence of complete Achilles tendon rupt...   \n",
       "3     Arenaviruses are enveloped RNA viruses with bi...   \n",
       "4     In this study, the anti-dengue activity of nic...   \n",
       "...                                                 ...   \n",
       "9913  Early nutritional environment affects long ter...   \n",
       "9914  Syphilis is a sexually transmitted disease (ST...   \n",
       "9915  Scientific RepoRts | 6:21878 | DOI: 10 .1038/s...   \n",
       "9916  Arenaviruses are enveloped RNA viruses contain...   \n",
       "9917  Emerging infectious diseases (EIDs) can cause ...   \n",
       "\n",
       "                                                  title  \n",
       "0     Neutralizing antibodies against porcine epidem...  \n",
       "1     A Recombinant Newcastle Disease Virus (NDV) Ex...  \n",
       "2     GP-confirmed complete Achilles tendon rupture ...  \n",
       "3     Potent Inhibition of Junín Virus Infection by ...  \n",
       "4     2 convergent Research center for emerging Viru...  \n",
       "...                                                 ...  \n",
       "9913  Lipidome profiles of postnatal day 2 vaginal s...  \n",
       "9914  Secondary Syphilis in Cali, Colombia: New Conc...  \n",
       "9915  Replication and shedding of MERS- CoV in Jamai...  \n",
       "9916  Role of the ERK1/2 Signaling Pathway in the Re...  \n",
       "9917  Foodborne Transmission of Deformed Wing Virus ...  \n",
       "\n",
       "[9918 rows x 3 columns]"
      ]
     },
     "execution_count": 170,
     "metadata": {},
     "output_type": "execute_result"
    }
   ],
   "source": [
    "df"
   ]
  },
  {
   "cell_type": "markdown",
   "metadata": {},
   "source": [
    "##### EDA"
   ]
  },
  {
   "cell_type": "code",
   "execution_count": 172,
   "metadata": {},
   "outputs": [],
   "source": [
    "len_list = df.whole_text.apply(len)"
   ]
  },
  {
   "cell_type": "code",
   "execution_count": 173,
   "metadata": {},
   "outputs": [
    {
     "data": {
      "text/plain": [
       "0       23728\n",
       "1       45631\n",
       "2       18385\n",
       "3       19988\n",
       "4       27473\n",
       "        ...  \n",
       "9913    27088\n",
       "9914    35795\n",
       "9915    17942\n",
       "9916    30748\n",
       "9917    19206\n",
       "Name: whole_text, Length: 9918, dtype: int64"
      ]
     },
     "execution_count": 173,
     "metadata": {},
     "output_type": "execute_result"
    }
   ],
   "source": [
    "len_list"
   ]
  },
  {
   "cell_type": "code",
   "execution_count": 166,
   "metadata": {},
   "outputs": [
    {
     "data": {
      "text/plain": [
       "[<matplotlib.lines.Line2D at 0x11c2a3c350>]"
      ]
     },
     "execution_count": 166,
     "metadata": {},
     "output_type": "execute_result"
    },
    {
     "data": {
      "image/png": "[encoded data removed]",
      "text/plain": [
       "<Figure size 432x288 with 1 Axes>"
      ]
     },
     "metadata": {
      "needs_background": "light"
     },
     "output_type": "display_data"
    }
   ],
   "source": [
    "plt.plot(len_list)"
   ]
  },
  {
   "cell_type": "code",
   "execution_count": 168,
   "metadata": {},
   "outputs": [
    {
     "data": {
      "text/plain": [
       "(array([4.051e+03, 4.782e+03, 9.030e+02, 1.320e+02, 3.000e+01, 8.000e+00,\n",
       "        1.000e+00, 1.000e+00, 0.000e+00, 1.000e+00, 2.000e+00, 0.000e+00,\n",
       "        0.000e+00, 1.000e+00, 0.000e+00, 0.000e+00, 1.000e+00, 0.000e+00,\n",
       "        0.000e+00, 0.000e+00, 0.000e+00, 1.000e+00, 2.000e+00, 0.000e+00,\n",
       "        0.000e+00, 1.000e+00, 0.000e+00, 0.000e+00, 0.000e+00, 0.000e+00,\n",
       "        0.000e+00, 0.000e+00, 0.000e+00, 0.000e+00, 0.000e+00, 0.000e+00,\n",
       "        0.000e+00, 0.000e+00, 0.000e+00, 0.000e+00, 0.000e+00, 0.000e+00,\n",
       "        0.000e+00, 0.000e+00, 0.000e+00, 0.000e+00, 0.000e+00, 0.000e+00,\n",
       "        0.000e+00, 1.000e+00]),\n",
       " array([1.0000000e+00, 2.3080900e+04, 4.6160800e+04, 6.9240700e+04,\n",
       "        9.2320600e+04, 1.1540050e+05, 1.3848040e+05, 1.6156030e+05,\n",
       "        1.8464020e+05, 2.0772010e+05, 2.3080000e+05, 2.5387990e+05,\n",
       "        2.7695980e+05, 3.0003970e+05, 3.2311960e+05, 3.4619950e+05,\n",
       "        3.6927940e+05, 3.9235930e+05, 4.1543920e+05, 4.3851910e+05,\n",
       "        4.6159900e+05, 4.8467890e+05, 5.0775880e+05, 5.3083870e+05,\n",
       "        5.5391860e+05, 5.7699850e+05, 6.0007840e+05, 6.2315830e+05,\n",
       "        6.4623820e+05, 6.6931810e+05, 6.9239800e+05, 7.1547790e+05,\n",
       "        7.3855780e+05, 7.6163770e+05, 7.8471760e+05, 8.0779750e+05,\n",
       "        8.3087740e+05, 8.5395730e+05, 8.7703720e+05, 9.0011710e+05,\n",
       "        9.2319700e+05, 9.4627690e+05, 9.6935680e+05, 9.9243670e+05,\n",
       "        1.0155166e+06, 1.0385965e+06, 1.0616764e+06, 1.0847563e+06,\n",
       "        1.1078362e+06, 1.1309161e+06, 1.1539960e+06]),\n",
       " <a list of 50 Patch objects>)"
      ]
     },
     "execution_count": 168,
     "metadata": {},
     "output_type": "execute_result"
    },
    {
     "data": {
      "image/png": "[encoded data removed]",
      "text/plain": [
       "<Figure size 432x288 with 1 Axes>"
      ]
     },
     "metadata": {
      "needs_background": "light"
     },
     "output_type": "display_data"
    }
   ],
   "source": [
    "plt.hist(len_list,bins=50)#looks at the distribution of paper length. Most papers are around 4000 -5000 words"
   ]
  }
 ],
 "metadata": {
  "kernelspec": {
   "display_name": "Python [conda env:metis] *",
   "language": "python",
   "name": "conda-env-metis-py"
  },
  "language_info": {
   "codemirror_mode": {
    "name": "ipython",
    "version": 3
   },
   "file_extension": ".py",
   "mimetype": "text/x-python",
   "name": "python",
   "nbconvert_exporter": "python",
   "pygments_lexer": "ipython3",
   "version": "3.7.7"
  }
 },
 "nbformat": 4,
 "nbformat_minor": 4
}
